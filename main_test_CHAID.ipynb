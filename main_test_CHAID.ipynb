{
 "cells": [
  {
   "cell_type": "code",
   "execution_count": 1,
   "metadata": {
    "collapsed": false
   },
   "outputs": [],
   "source": [
    "import pandas as pd\n",
    "import numpy as np\n",
    "from CHAID import CHAID"
   ]
  },
  {
   "cell_type": "markdown",
   "metadata": {},
   "source": [
    "### 1. Categorical Y Test"
   ]
  },
  {
   "cell_type": "code",
   "execution_count": 2,
   "metadata": {
    "collapsed": false
   },
   "outputs": [
    {
     "name": "stdout",
     "output_type": "stream",
     "text": [
      "lv.0 col:None col_bin:[] size : 50 impurity: {0: 0.48, 1: 0.52}\n",
      "    lv.1 col:b col_bin:[11] size : 28 impurity: {0: 0.57, 1: 0.43}\n",
      "        lv.2 col:c col_bin:[2, 3] size : 20 impurity: {0: 0.6, 1: 0.4}\n",
      "            lv.3 col:c col_bin:[3] size : 9 impurity: {0: 0.56, 1: 0.44}\n",
      "            lv.3 col:c col_bin:[2] size : 11 impurity: {0: 0.64, 1: 0.36}\n",
      "        lv.2 col:c col_bin:[1] size : 8 impurity: {0: 0.5, 1: 0.5}\n",
      "    lv.1 col:b col_bin:[10] size : 22 impurity: {0: 0.36, 1: 0.64}\n",
      "        lv.2 col:c col_bin:[3] size : 5 impurity: {1: 1.0}\n",
      "        lv.2 col:c col_bin:[1, 2] size : 17 impurity: {0: 0.47, 1: 0.53}\n"
     ]
    }
   ],
   "source": [
    "train = pd.DataFrame({'a':np.random.randint(1,3, size = 50), \n",
    "              'b': np.random.randint(10, 12, size = 50),\n",
    "                     'c': np.random.randint(1,4, size = 50)})\n",
    "Y = pd.Series(np.random.randint(0,2, size = 50))\n",
    "res = CHAID()\n",
    "res.fit(train, Y, type_Y = 'categorical', type_X = {'a':'ordinal', 'b':'categorical', 'c':'ordinal'})\n",
    "res.pretty_print()"
   ]
  },
  {
   "cell_type": "markdown",
   "metadata": {},
   "source": [
    "### 2. Numerical Y Test"
   ]
  },
  {
   "cell_type": "code",
   "execution_count": 3,
   "metadata": {
    "collapsed": false
   },
   "outputs": [
    {
     "name": "stdout",
     "output_type": "stream",
     "text": [
      "lv.0 col:None col_bin:[] size : 50 impurity: {'std': 0.47, 'mean': 1.37}\n",
      "    lv.1 col:b col_bin:[11] size : 22 impurity: {'std': 0.53, 'mean': 1.46}\n",
      "        lv.2 col:c col_bin:[3] size : 8 impurity: {'std': 0.43, 'mean': 1.34}\n",
      "        lv.2 col:c col_bin:[1, 2] size : 14 impurity: {'std': 0.58, 'mean': 1.53}\n",
      "    lv.1 col:b col_bin:[10] size : 28 impurity: {'std': 0.4, 'mean': 1.3}\n",
      "        lv.2 col:c col_bin:[2, 3] size : 22 impurity: {'std': 0.4, 'mean': 1.27}\n",
      "            lv.3 col:c col_bin:[3] size : 10 impurity: {'std': 0.38, 'mean': 1.23}\n",
      "            lv.3 col:c col_bin:[2] size : 12 impurity: {'std': 0.44, 'mean': 1.3}\n",
      "        lv.2 col:c col_bin:[1] size : 6 impurity: {'std': 0.4, 'mean': 1.43}\n"
     ]
    }
   ],
   "source": [
    "train = pd.DataFrame({'a':np.random.randint(1,3, size = 50), \n",
    "              'b': np.random.randint(10, 12, size = 50),\n",
    "                     'c': np.random.randint(1,4, size = 50)})\n",
    "Y = pd.Series(np.random.triangular(0,1,3, size = 50))\n",
    "res = CHAID()\n",
    "res.fit(train, Y, type_Y = 'numerical', type_X = {'a':'ordinal', 'b':'categorical', 'c':'ordinal'})\n",
    "res.pretty_print()"
   ]
  },
  {
   "cell_type": "code",
   "execution_count": null,
   "metadata": {
    "collapsed": true
   },
   "outputs": [],
   "source": []
  }
 ],
 "metadata": {
  "kernelspec": {
   "display_name": "Python [conda env:Anaconda3]",
   "language": "python",
   "name": "conda-env-Anaconda3-py"
  },
  "language_info": {
   "codemirror_mode": {
    "name": "ipython",
    "version": 3
   },
   "file_extension": ".py",
   "mimetype": "text/x-python",
   "name": "python",
   "nbconvert_exporter": "python",
   "pygments_lexer": "ipython3",
   "version": "3.5.2"
  }
 },
 "nbformat": 4,
 "nbformat_minor": 2
}
